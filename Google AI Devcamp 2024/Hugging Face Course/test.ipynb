{
 "cells": [
  {
   "cell_type": "markdown",
   "metadata": {},
   "source": [
    "# Higging Face tutorial\n",
    "\n",
    "https://huggingface.co/learn/nlp-course/chapter0/1"
   ]
  },
  {
   "cell_type": "code",
   "execution_count": 8,
   "metadata": {},
   "outputs": [
    {
     "name": "stdout",
     "output_type": "stream",
     "text": [
      "Defaulting to user installation because normal site-packages is not writeable\n",
      "Requirement already satisfied: transformers[sentencepiece] in c:\\users\\alex\\appdata\\roaming\\python\\python312\\site-packages (4.41.0)\n",
      "Requirement already satisfied: filelock in c:\\users\\alex\\appdata\\roaming\\python\\python312\\site-packages (from transformers[sentencepiece]) (3.13.1)\n",
      "Requirement already satisfied: huggingface-hub<1.0,>=0.23.0 in c:\\users\\alex\\appdata\\roaming\\python\\python312\\site-packages (from transformers[sentencepiece]) (0.23.0)\n",
      "Requirement already satisfied: numpy>=1.17 in c:\\users\\alex\\appdata\\roaming\\python\\python312\\site-packages (from transformers[sentencepiece]) (1.26.4)\n",
      "Requirement already satisfied: packaging>=20.0 in c:\\users\\alex\\appdata\\roaming\\python\\python312\\site-packages (from transformers[sentencepiece]) (23.2)\n",
      "Requirement already satisfied: pyyaml>=5.1 in c:\\users\\alex\\appdata\\roaming\\python\\python312\\site-packages (from transformers[sentencepiece]) (6.0.1)\n",
      "Requirement already satisfied: regex!=2019.12.17 in c:\\users\\alex\\appdata\\roaming\\python\\python312\\site-packages (from transformers[sentencepiece]) (2024.5.15)\n",
      "Requirement already satisfied: requests in c:\\users\\alex\\appdata\\roaming\\python\\python312\\site-packages (from transformers[sentencepiece]) (2.31.0)\n",
      "Requirement already satisfied: tokenizers<0.20,>=0.19 in c:\\users\\alex\\appdata\\roaming\\python\\python312\\site-packages (from transformers[sentencepiece]) (0.19.1)\n",
      "Requirement already satisfied: safetensors>=0.4.1 in c:\\users\\alex\\appdata\\roaming\\python\\python312\\site-packages (from transformers[sentencepiece]) (0.4.3)\n",
      "Requirement already satisfied: tqdm>=4.27 in c:\\users\\alex\\appdata\\roaming\\python\\python312\\site-packages (from transformers[sentencepiece]) (4.66.4)\n",
      "Requirement already satisfied: sentencepiece!=0.1.92,>=0.1.91 in c:\\users\\alex\\appdata\\roaming\\python\\python312\\site-packages (from transformers[sentencepiece]) (0.2.0)\n",
      "Requirement already satisfied: protobuf in c:\\users\\alex\\appdata\\roaming\\python\\python312\\site-packages (from transformers[sentencepiece]) (5.26.1)\n",
      "Requirement already satisfied: fsspec>=2023.5.0 in c:\\users\\alex\\appdata\\roaming\\python\\python312\\site-packages (from huggingface-hub<1.0,>=0.23.0->transformers[sentencepiece]) (2024.5.0)\n",
      "Requirement already satisfied: typing-extensions>=3.7.4.3 in c:\\users\\alex\\appdata\\roaming\\python\\python312\\site-packages (from huggingface-hub<1.0,>=0.23.0->transformers[sentencepiece]) (4.11.0)\n",
      "Requirement already satisfied: colorama in c:\\users\\alex\\appdata\\roaming\\python\\python312\\site-packages (from tqdm>=4.27->transformers[sentencepiece]) (0.4.6)\n",
      "Requirement already satisfied: charset-normalizer<4,>=2 in c:\\users\\alex\\appdata\\roaming\\python\\python312\\site-packages (from requests->transformers[sentencepiece]) (3.3.2)\n",
      "Requirement already satisfied: idna<4,>=2.5 in c:\\users\\alex\\appdata\\roaming\\python\\python312\\site-packages (from requests->transformers[sentencepiece]) (3.6)\n",
      "Requirement already satisfied: urllib3<3,>=1.21.1 in c:\\users\\alex\\appdata\\roaming\\python\\python312\\site-packages (from requests->transformers[sentencepiece]) (2.2.0)\n",
      "Requirement already satisfied: certifi>=2017.4.17 in c:\\users\\alex\\appdata\\roaming\\python\\python312\\site-packages (from requests->transformers[sentencepiece]) (2024.2.2)\n"
     ]
    }
   ],
   "source": [
    "# small lite version\n",
    "#!pip install transformers  \n",
    "# development version with ll the possible tools\n",
    "!pip install transformers[sentencepiece]  "
   ]
  },
  {
   "cell_type": "code",
   "execution_count": 5,
   "metadata": {},
   "outputs": [],
   "source": [
    "import transformers\n",
    "# it required to install this: pip install ipywidgets"
   ]
  },
  {
   "cell_type": "code",
   "execution_count": 6,
   "metadata": {},
   "outputs": [
    {
     "name": "stdout",
     "output_type": "stream",
     "text": [
      "Defaulting to user installation because normal site-packages is not writeable\n",
      "Requirement already satisfied: transformers[sentencepiece] in c:\\users\\alex\\appdata\\roaming\\python\\python312\\site-packages (4.41.0)\n",
      "Requirement already satisfied: filelock in c:\\users\\alex\\appdata\\roaming\\python\\python312\\site-packages (from transformers[sentencepiece]) (3.13.1)\n",
      "Requirement already satisfied: huggingface-hub<1.0,>=0.23.0 in c:\\users\\alex\\appdata\\roaming\\python\\python312\\site-packages (from transformers[sentencepiece]) (0.23.0)\n",
      "Requirement already satisfied: numpy>=1.17 in c:\\users\\alex\\appdata\\roaming\\python\\python312\\site-packages (from transformers[sentencepiece]) (1.26.4)\n",
      "Requirement already satisfied: packaging>=20.0 in c:\\users\\alex\\appdata\\roaming\\python\\python312\\site-packages (from transformers[sentencepiece]) (23.2)\n",
      "Requirement already satisfied: pyyaml>=5.1 in c:\\users\\alex\\appdata\\roaming\\python\\python312\\site-packages (from transformers[sentencepiece]) (6.0.1)\n",
      "Requirement already satisfied: regex!=2019.12.17 in c:\\users\\alex\\appdata\\roaming\\python\\python312\\site-packages (from transformers[sentencepiece]) (2024.5.15)\n",
      "Requirement already satisfied: requests in c:\\users\\alex\\appdata\\roaming\\python\\python312\\site-packages (from transformers[sentencepiece]) (2.31.0)\n",
      "Requirement already satisfied: tokenizers<0.20,>=0.19 in c:\\users\\alex\\appdata\\roaming\\python\\python312\\site-packages (from transformers[sentencepiece]) (0.19.1)\n",
      "Requirement already satisfied: safetensors>=0.4.1 in c:\\users\\alex\\appdata\\roaming\\python\\python312\\site-packages (from transformers[sentencepiece]) (0.4.3)\n",
      "Requirement already satisfied: tqdm>=4.27 in c:\\users\\alex\\appdata\\roaming\\python\\python312\\site-packages (from transformers[sentencepiece]) (4.66.4)\n",
      "Collecting sentencepiece!=0.1.92,>=0.1.91 (from transformers[sentencepiece])\n",
      "  Downloading sentencepiece-0.2.0-cp312-cp312-win_amd64.whl.metadata (8.3 kB)\n",
      "Collecting protobuf (from transformers[sentencepiece])\n",
      "  Downloading protobuf-5.26.1-cp310-abi3-win_amd64.whl.metadata (592 bytes)\n",
      "Requirement already satisfied: fsspec>=2023.5.0 in c:\\users\\alex\\appdata\\roaming\\python\\python312\\site-packages (from huggingface-hub<1.0,>=0.23.0->transformers[sentencepiece]) (2024.5.0)\n",
      "Requirement already satisfied: typing-extensions>=3.7.4.3 in c:\\users\\alex\\appdata\\roaming\\python\\python312\\site-packages (from huggingface-hub<1.0,>=0.23.0->transformers[sentencepiece]) (4.11.0)\n",
      "Requirement already satisfied: colorama in c:\\users\\alex\\appdata\\roaming\\python\\python312\\site-packages (from tqdm>=4.27->transformers[sentencepiece]) (0.4.6)\n",
      "Requirement already satisfied: charset-normalizer<4,>=2 in c:\\users\\alex\\appdata\\roaming\\python\\python312\\site-packages (from requests->transformers[sentencepiece]) (3.3.2)\n",
      "Requirement already satisfied: idna<4,>=2.5 in c:\\users\\alex\\appdata\\roaming\\python\\python312\\site-packages (from requests->transformers[sentencepiece]) (3.6)\n",
      "Requirement already satisfied: urllib3<3,>=1.21.1 in c:\\users\\alex\\appdata\\roaming\\python\\python312\\site-packages (from requests->transformers[sentencepiece]) (2.2.0)\n",
      "Requirement already satisfied: certifi>=2017.4.17 in c:\\users\\alex\\appdata\\roaming\\python\\python312\\site-packages (from requests->transformers[sentencepiece]) (2024.2.2)\n",
      "Downloading sentencepiece-0.2.0-cp312-cp312-win_amd64.whl (991 kB)\n",
      "   ---------------------------------------- 0.0/992.0 kB ? eta -:--:--\n",
      "   ---------------------------------------- 10.2/992.0 kB ? eta -:--:--\n",
      "   - ------------------------------------- 30.7/992.0 kB 445.2 kB/s eta 0:00:03\n",
      "   -- ------------------------------------ 61.4/992.0 kB 550.5 kB/s eta 0:00:02\n",
      "   ----- -------------------------------- 143.4/992.0 kB 950.9 kB/s eta 0:00:01\n",
      "   -------- ------------------------------- 204.8/992.0 kB 1.0 MB/s eta 0:00:01\n",
      "   --------------- ------------------------ 389.1/992.0 kB 1.7 MB/s eta 0:00:01\n",
      "   ------------------------------ --------- 747.5/992.0 kB 2.6 MB/s eta 0:00:01\n",
      "   ---------------------------------------  983.0/992.0 kB 3.0 MB/s eta 0:00:01\n",
      "   ---------------------------------------- 992.0/992.0 kB 2.9 MB/s eta 0:00:00\n",
      "Downloading protobuf-5.26.1-cp310-abi3-win_amd64.whl (420 kB)\n",
      "   ---------------------------------------- 0.0/420.9 kB ? eta -:--:--\n",
      "   ---------------------------------- ----- 358.4/420.9 kB 7.4 MB/s eta 0:00:01\n",
      "   ---------------------------------------- 420.9/420.9 kB 6.5 MB/s eta 0:00:00\n",
      "Installing collected packages: sentencepiece, protobuf\n",
      "Successfully installed protobuf-5.26.1 sentencepiece-0.2.0\n"
     ]
    }
   ],
   "source": [
    "!pip install transformers[sentencepiece]"
   ]
  },
  {
   "cell_type": "code",
   "execution_count": null,
   "metadata": {},
   "outputs": [],
   "source": []
  }
 ],
 "metadata": {
  "kernelspec": {
   "display_name": "Python 3",
   "language": "python",
   "name": "python3"
  },
  "language_info": {
   "codemirror_mode": {
    "name": "ipython",
    "version": 3
   },
   "file_extension": ".py",
   "mimetype": "text/x-python",
   "name": "python",
   "nbconvert_exporter": "python",
   "pygments_lexer": "ipython3",
   "version": "3.12.2"
  }
 },
 "nbformat": 4,
 "nbformat_minor": 2
}
